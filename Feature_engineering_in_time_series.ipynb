{
  "nbformat": 4,
  "nbformat_minor": 0,
  "metadata": {
    "colab": {
      "provenance": [],
      "authorship_tag": "ABX9TyOFAVa7JbkV5Tl0Q0CiLd+M",
      "include_colab_link": true
    },
    "kernelspec": {
      "name": "python3",
      "display_name": "Python 3"
    },
    "language_info": {
      "name": "python"
    }
  },
  "cells": [
    {
      "cell_type": "markdown",
      "metadata": {
        "id": "view-in-github",
        "colab_type": "text"
      },
      "source": [
        "<a href=\"https://colab.research.google.com/github/Yufanzh/02_study/blob/master/Feature_engineering_in_time_series.ipynb\" target=\"_parent\"><img src=\"https://colab.research.google.com/assets/colab-badge.svg\" alt=\"Open In Colab\"/></a>"
      ]
    },
    {
      "cell_type": "code",
      "source": [
        "import pandas as pd\n",
        "\n",
        "# create features of year/month/day\n",
        "features = df2.copy()\n",
        "features['year'] = df2['date'].dt.year\n",
        "features['month'] = df2['date'].dt.month\n",
        "features['day'] = df2['date'].dt.day\n",
        "features.head(5)\n",
        "\n",
        "\n",
        "\n"
      ],
      "metadata": {
        "id": "D8pAkYSnw4SW"
      },
      "execution_count": null,
      "outputs": []
    },
    {
      "cell_type": "markdown",
      "source": [
        "## Lag features\n",
        "\n",
        "To create lag1 features"
      ],
      "metadata": {
        "id": "mW1Si0nTxfrn"
      }
    },
    {
      "cell_type": "code",
      "source": [
        "features['lag1'] = df2['births'].shift(1)\n",
        "features['lag2'] = df2['births'].shift(365) # 365 lag\n"
      ],
      "metadata": {
        "id": "xZVcjf4dxg6I"
      },
      "execution_count": null,
      "outputs": []
    },
    {
      "cell_type": "markdown",
      "source": [
        "## Window features"
      ],
      "metadata": {
        "id": "fUsJk4csyHF1"
      }
    },
    {
      "cell_type": "code",
      "source": [
        "features['Roll_mean'] = df2['births'].rolling(window = 2).mean() # mention window size\n",
        "features['Roll_max'] = df2['births'].rolling(window = 3).max()\n"
      ],
      "metadata": {
        "id": "DZSkFMc2x3RE"
      },
      "execution_count": null,
      "outputs": []
    },
    {
      "cell_type": "markdown",
      "source": [
        "## Expanding features"
      ],
      "metadata": {
        "id": "EmXrE-GwyvCi"
      }
    },
    {
      "cell_type": "code",
      "source": [
        "features['Expand_max'] = df2['births'].expanding().max()\n",
        "features.head(10)"
      ],
      "metadata": {
        "id": "FbCOvKOmyw8a"
      },
      "execution_count": null,
      "outputs": []
    }
  ]
}