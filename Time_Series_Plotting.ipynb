{
  "nbformat": 4,
  "nbformat_minor": 0,
  "metadata": {
    "colab": {
      "provenance": [],
      "authorship_tag": "ABX9TyOkPzUTlubBnLlxlOd8NdqC",
      "include_colab_link": true
    },
    "kernelspec": {
      "name": "python3",
      "display_name": "Python 3"
    },
    "language_info": {
      "name": "python"
    }
  },
  "cells": [
    {
      "cell_type": "markdown",
      "metadata": {
        "id": "view-in-github",
        "colab_type": "text"
      },
      "source": [
        "<a href=\"https://colab.research.google.com/github/Yufanzh/02_study/blob/master/Time_Series_Plotting.ipynb\" target=\"_parent\"><img src=\"https://colab.research.google.com/assets/colab-badge.svg\" alt=\"Open In Colab\"/></a>"
      ]
    },
    {
      "cell_type": "code",
      "execution_count": 1,
      "metadata": {
        "id": "AiRFZVcNz6Qv"
      },
      "outputs": [],
      "source": [
        "# ploting chart\n",
        "from matplotlib import pyplot as plt\n",
        "%matplotlib inline"
      ]
    },
    {
      "cell_type": "code",
      "source": [
        "dataviz_df = df2.copy()\n",
        "dataviz_df.head(5)\n",
        "\n",
        "dataviz_df['births'].plot()\n",
        "\n",
        "dataviz_df.index = dataviz_df['date']\n",
        "dataviz_df['births'].plot()\n"
      ],
      "metadata": {
        "id": "rWvGRXYq4JAo"
      },
      "execution_count": null,
      "outputs": []
    },
    {
      "cell_type": "markdown",
      "source": [
        "## Zoom in"
      ],
      "metadata": {
        "id": "FpxDEAaM4bDm"
      }
    },
    {
      "cell_type": "code",
      "source": [
        "# select a new time range and plot\n"
      ],
      "metadata": {
        "id": "828tniLS4b0P"
      },
      "execution_count": null,
      "outputs": []
    },
    {
      "cell_type": "markdown",
      "source": [
        "## Treadline"
      ],
      "metadata": {
        "id": "pREZOyFE4it3"
      }
    },
    {
      "cell_type": "code",
      "source": [
        "import seaborn as sns"
      ],
      "metadata": {
        "id": "0EtovT6h4jmC"
      },
      "execution_count": 2,
      "outputs": []
    },
    {
      "cell_type": "code",
      "source": [
        "sns.regplot(x = df2.index.values, y = df2['births']) # automatically plot trendline\n",
        "sns.regplot(x = df2.index.values, y = df2['births'], order = 2)\n",
        "\n",
        "\n",
        "miles_df = pd.read_csv('fake.csv', header = 0, parse_dates = [0])\n",
        "miles_df['MilesMM'].plot()\n",
        "sns.regplot(x=, y=)\n",
        "\n"
      ],
      "metadata": {
        "id": "YkIMYQ5r4knF"
      },
      "execution_count": null,
      "outputs": []
    },
    {
      "cell_type": "markdown",
      "source": [
        "## Removing Seasonality"
      ],
      "metadata": {
        "id": "irWSStMU5TgR"
      }
    },
    {
      "cell_type": "code",
      "source": [
        "miles_df['year'] = miles_df['Month'].dt.year\n",
        "miles_df.groupby('year')['MilesMM'].mean()\n",
        "miles_df.groupby('year')['MilesMM'].mean().plot()"
      ],
      "metadata": {
        "id": "2zujhKMs5VtD"
      },
      "execution_count": null,
      "outputs": []
    },
    {
      "cell_type": "markdown",
      "source": [
        "## Creating Lag plots"
      ],
      "metadata": {
        "id": "a4Qpl0Pc5uB4"
      }
    },
    {
      "cell_type": "code",
      "source": [
        "miles_df['lag1'] = miles_df['MilesMM'].shift(1)\n",
        "\n",
        "sns.scaatterplot(x=miles_df['lag1'], y = miles_df[['MilesMM']])\n",
        "\n",
        "from pandas.plotting import lag_plot\n",
        "lag_plot(miles_df['MilesMM']) # By default, lag1"
      ],
      "metadata": {
        "id": "m0OEk6-I5vdO"
      },
      "execution_count": null,
      "outputs": []
    },
    {
      "cell_type": "markdown",
      "source": [
        "## Autocorrelation plots"
      ],
      "metadata": {
        "id": "hwBZU8UN6Lx9"
      }
    },
    {
      "cell_type": "code",
      "source": [
        "from pandas.plotting import autocorrelation_plot\n",
        "\n",
        "autocorrelation_plot(miles_df['MilesMM'])"
      ],
      "metadata": {
        "id": "msekOvLn6NE2"
      },
      "execution_count": null,
      "outputs": []
    }
  ]
}