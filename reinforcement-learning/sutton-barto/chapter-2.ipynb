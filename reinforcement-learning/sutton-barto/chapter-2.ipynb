{
 "cells": [
  {
   "cell_type": "code",
   "execution_count": null,
   "metadata": {},
   "outputs": [],
   "source": [
    "import numpy as np"
   ]
  },
  {
   "cell_type": "code",
   "execution_count": null,
   "metadata": {},
   "outputs": [],
   "source": [
    "def single_bandit(n_arm, q_true, q_est, epsilon, steps, alpha, stationary=True):\n",
    "    act_counts = np.zeros(n_arm)\n",
    "    rewards = list()\n",
    "    opt_act = np.argmax(q_true)\n",
    "    opt_acts = list()\n",
    "    for i in range(steps):\n",
    "        if not stationary:\n",
    "            q_true += np.random.randn(n_arm) * 0.01\n",
    "        if np.random.rand() < epsilon:\n",
    "        \ta = np.random.choice(n_arm)\n",
    "        else:\n",
    "        \ta = np.argmax(q_est)\n",
    "        act_counts[a] += 1\n",
    "        reward = q_true[a] + np.random.randn()\n",
    "        rewards.append(reward)\n",
    "        opt_acts.append(int(a == opt_act))\n",
    "        if alpha:\n",
    "            q_est[a] += alpha * (reward - q_est[a])\n",
    "        else:\n",
    "            q_est[a] += 1 / act_counts[a] * (reward - q_est[a])\n",
    "    return rewards, opt_acts"
   ]
  },
  {
   "cell_type": "code",
   "execution_count": null,
   "metadata": {},
   "outputs": [],
   "source": [
    "import matplotlib.pyplot as plt\n",
    "\n",
    "n_arm = 10\n",
    "rewards = {}\n",
    "opt_acts = {}\n",
    "for epsilon in [0.0, 0.01, 0.1]:\n",
    "\tres = [single_bandit(n_arm, np.random.randn(n_arm), np.zeros(n_arm), epsilon, 1000, alpha=None, stationary=True) for i in range(2000)]\n",
    "\trs_, os_ = np.array(list(zip(*res))).mean(axis=1)\n",
    "\trewards[epsilon] = rs_\n",
    "\topt_acts[epsilon] = os_\n",
    "\n",
    "\n",
    "plt.figure(figsize=(10, 12))\n",
    "\n",
    "plt.subplot(2, 1, 1)\n",
    "for k, v in rewards.items():\n",
    "\tplt.plot(v, label=f'epsilon = {k}')\n",
    "plt.xlabel('steps')\n",
    "plt.ylabel('average reward')\n",
    "plt.legend()\n",
    "\n",
    "plt.subplot(2, 1, 2)\n",
    "for k, v in opt_acts.items():\n",
    "\tplt.plot(v, label=f'epsilon = {k}')\n",
    "plt.xlabel('steps')\n",
    "plt.ylabel('% optimal action')\n",
    "plt.legend()\n",
    "plt.show()"
   ]
  },
  {
   "cell_type": "code",
   "execution_count": null,
   "metadata": {},
   "outputs": [],
   "source": [
    "import matplotlib.pyplot as plt\n",
    "\n",
    "n_arm = 10\n",
    "rewards = {}\n",
    "opt_acts = {}\n",
    "for alpha in [None, 0.1]:\n",
    "\tres = [single_bandit(n_arm, np.zeros(n_arm), np.zeros(n_arm), 0.1, 100000, alpha, False) for i in range(2000)]\n",
    "\trs_, os_ = np.array(list(zip(*res))).mean(axis=1)\n",
    "\trewards[alpha] = rs_\n",
    "\topt_acts[alpha] = os_\n",
    "\n",
    "plt.figure(figsize=(10, 12))\n",
    "\n",
    "plt.subplot(2, 1, 1)\n",
    "for k, v in rewards.items():\n",
    "\tplt.plot(v, label=f'alpha = {k}')\n",
    "plt.xlabel('steps')\n",
    "plt.ylabel('average reward')\n",
    "plt.legend()\n",
    "\n",
    "plt.subplot(2, 1, 2)\n",
    "for k, v in opt_acts.items():\n",
    "\tplt.plot(v, label=f'alpha = {k}')\n",
    "plt.xlabel('steps')\n",
    "plt.ylabel('% optimal action')\n",
    "plt.legend()\n",
    "plt.show()"
   ]
  },
  {
   "cell_type": "code",
   "execution_count": null,
   "metadata": {},
   "outputs": [],
   "source": [
    "import matplotlib.pyplot as plt\n",
    "\n",
    "n_arm = 10\n",
    "opt_acts = {}\n",
    "for q_init, eps in [(5, 0.0), (0, 0.1)]:\n",
    "\tres = [single_bandit(n_arm, np.random.randn(n_arm), np.zeros(n_arm) + q_init, eps, 1000, 0.1, True) for i in range(2000)]\n",
    "\trs_, os_ = np.array(list(zip(*res))).mean(axis=1)\n",
    "\topt_acts[eps] = os_\n",
    "\n",
    "plt.figure(figsize=(10, 6))\n",
    "\n",
    "for k, q_init in zip(opt_acts, [5, 0]):\n",
    "\tplt.plot(opt_acts[k], label=f'eps = {k}, $Q_1$ = {q_init}')\n",
    "plt.xlabel('steps')\n",
    "plt.ylabel('% optimal action')\n",
    "plt.legend()\n",
    "plt.show()"
   ]
  },
  {
   "cell_type": "code",
   "execution_count": null,
   "metadata": {},
   "outputs": [],
   "source": [
    "import matplotlib.pyplot as plt\n",
    "\n",
    "n_arm = 10\n",
    "rewards = {}\n",
    "opt_acts = {}\n",
    "for alpha in [None, 0.1]:\n",
    "\tres = [single_bandit(n_arm, np.zeros(n_arm), np.zeros(n_arm), 0.1, 10000, alpha, False) for i in range(2000)]\n",
    "\trs_, os_ = np.array(list(zip(*res))).mean(axis=1)\n",
    "\trewards[alpha] = rs_\n",
    "\topt_acts[alpha] = os_\n",
    "\n",
    "plt.figure(figsize=(10, 6))\n",
    "\n",
    "for k, v in rewards.items():\n",
    "\tplt.plot(v, label=f'alpha = {k}')\n",
    "plt.xlabel('steps')\n",
    "plt.ylabel('average reward')\n",
    "plt.legend()\n",
    "plt.show()"
   ]
  }
 ],
 "metadata": {
  "kernelspec": {
   "display_name": "nlp",
   "language": "python",
   "name": "python3"
  },
  "language_info": {
   "codemirror_mode": {
    "name": "ipython",
    "version": 3
   },
   "file_extension": ".py",
   "mimetype": "text/x-python",
   "name": "python",
   "nbconvert_exporter": "python",
   "pygments_lexer": "ipython3",
   "version": "3.10.5"
  },
  "orig_nbformat": 4,
  "vscode": {
   "interpreter": {
    "hash": "e7fd041fdbbcb5942f20e7d9df4d65e3ed0eb4be2837321503a7a8ddf7483e7f"
   }
  }
 },
 "nbformat": 4,
 "nbformat_minor": 2
}
